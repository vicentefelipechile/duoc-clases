{
 "cells": [
  {
   "attachments": {},
   "cell_type": "markdown",
   "metadata": {},
   "source": [
    "# Ejercicio 1\n",
    "Crea un arreglo de dos dimensiones de tamaño 3x3, con elementos aleatorios de numeros del 0 al 100."
   ]
  },
  {
   "cell_type": "code",
   "execution_count": 19,
   "metadata": {},
   "outputs": [],
   "source": [
    "import numpy as np\n",
    "\n",
    "\"\"\"\n",
    "V - Matriz de ejemplo - V\n",
    "Matriz: list = [\n",
    "    [1, 2, 3],\n",
    "    [4, 5, 6],\n",
    "    [7, 8, 9]\n",
    "]\n",
    "\"\"\"\n",
    "\n",
    "Matriz = np.random.randint(100, size=(3, 3))"
   ]
  },
  {
   "cell_type": "code",
   "execution_count": 20,
   "metadata": {},
   "outputs": [
    {
     "name": "stdout",
     "output_type": "stream",
     "text": [
      "[[24 53 38]\n",
      " [ 6 81 83]\n",
      " [37 78 60]]\n"
     ]
    }
   ],
   "source": [
    "# Resultado matriz\n",
    "\n",
    "print( Matriz )"
   ]
  },
  {
   "cell_type": "markdown",
   "metadata": {},
   "source": [
    "# Ejercicio 2\n",
    "Utilice las siguientes funciones en el arreglo creado en el punto 1\n",
    "- Promedio de los elementos\n",
    "- Suma de los elementos\n",
    "- Mostrar el elemento mayor\n",
    "- Mostrar el elemento menor\n",
    "- Mostrar solo los elementos de la diagonal principal"
   ]
  },
  {
   "cell_type": "code",
   "execution_count": 21,
   "metadata": {},
   "outputs": [
    {
     "name": "stdout",
     "output_type": "stream",
     "text": [
      "51.111111111111114\n",
      "460\n",
      "83\n",
      "6\n",
      "[24 81 60]\n"
     ]
    }
   ],
   "source": [
    "# El valor Matriz esta especificado en el Ejercicio 1\n",
    "\n",
    "print( np.average(Matriz) )\n",
    "print( np.sum(Matriz) )\n",
    "print( np.max(Matriz) )\n",
    "print( np.min(Matriz) )\n",
    "print( np.diagonal( Matriz ) )"
   ]
  },
  {
   "attachments": {},
   "cell_type": "markdown",
   "metadata": {},
   "source": [
    "# Ejercicio 3\n",
    "Crear un arreglo de dos dimensiones de 3x3 con numeros ceros, excepto la diagonal principal que debe contener en el mismo orden los siguientes elementos 1, 2 y 3"
   ]
  },
  {
   "cell_type": "code",
   "execution_count": 22,
   "metadata": {},
   "outputs": [
    {
     "name": "stdout",
     "output_type": "stream",
     "text": [
      "[[1 0 0]\n",
      " [0 1 0]\n",
      " [0 0 1]]\n"
     ]
    }
   ],
   "source": [
    "Arreglo: list = np.array([1, 1, 1])\n",
    "\n",
    "MatrizBinaria: list = np.diag(Arreglo)\n",
    "\n",
    "print(MatrizBinaria)"
   ]
  }
 ],
 "metadata": {
  "kernelspec": {
   "display_name": "Python 3",
   "language": "python",
   "name": "python3"
  },
  "language_info": {
   "codemirror_mode": {
    "name": "ipython",
    "version": 3
   },
   "file_extension": ".py",
   "mimetype": "text/x-python",
   "name": "python",
   "nbconvert_exporter": "python",
   "pygments_lexer": "ipython3",
   "version": "3.11.1"
  },
  "orig_nbformat": 4,
  "vscode": {
   "interpreter": {
    "hash": "826f091ce4e2d2fed0f8acdbeffc6e2b2cccfd5575f600b2ff9c1ba77970aafa"
   }
  }
 },
 "nbformat": 4,
 "nbformat_minor": 2
}
