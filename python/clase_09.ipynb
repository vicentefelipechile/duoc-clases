{
 "cells": [
  {
   "attachments": {},
   "cell_type": "markdown",
   "metadata": {},
   "source": [
    "# Actividad 1\n",
    "Analiza con tus compañeros las siguientes funciones y comenta el resultado con tu docente"
   ]
  },
  {
   "attachments": {},
   "cell_type": "markdown",
   "metadata": {},
   "source": [
    "## Funcion 1"
   ]
  },
  {
   "cell_type": "code",
   "execution_count": 2,
   "metadata": {},
   "outputs": [],
   "source": [
    "def resta(a, b):\n",
    "    return a - b"
   ]
  },
  {
   "cell_type": "code",
   "execution_count": 3,
   "metadata": {},
   "outputs": [
    {
     "data": {
      "text/plain": [
       "-20"
      ]
     },
     "execution_count": 3,
     "metadata": {},
     "output_type": "execute_result"
    }
   ],
   "source": [
    "# resultado\n",
    "resta( 30, 10 )"
   ]
  },
  {
   "attachments": {},
   "cell_type": "markdown",
   "metadata": {},
   "source": [
    "## Funcion 2"
   ]
  },
  {
   "cell_type": "code",
   "execution_count": 4,
   "metadata": {},
   "outputs": [],
   "source": [
    "def resta(a, b):\n",
    "    return a - b"
   ]
  },
  {
   "cell_type": "code",
   "execution_count": 5,
   "metadata": {},
   "outputs": [
    {
     "data": {
      "text/plain": [
       "-20"
      ]
     },
     "execution_count": 5,
     "metadata": {},
     "output_type": "execute_result"
    }
   ],
   "source": [
    "# resultado\n",
    "resta( b = 30, a = 10 )"
   ]
  },
  {
   "attachments": {},
   "cell_type": "markdown",
   "metadata": {},
   "source": [
    "## Funcion 3"
   ]
  },
  {
   "cell_type": "code",
   "execution_count": 6,
   "metadata": {},
   "outputs": [],
   "source": [
    "def funcion():\n",
    "    return \"Bienvenidos a pyton\""
   ]
  },
  {
   "cell_type": "code",
   "execution_count": 7,
   "metadata": {},
   "outputs": [
    {
     "name": "stdout",
     "output_type": "stream",
     "text": [
      "Bienvenidos a pyton\n"
     ]
    }
   ],
   "source": [
    "# resultado\n",
    "frase = funcion()\n",
    "print( frase )"
   ]
  },
  {
   "attachments": {},
   "cell_type": "markdown",
   "metadata": {},
   "source": [
    "## Funcion 4"
   ]
  },
  {
   "cell_type": "code",
   "execution_count": 8,
   "metadata": {},
   "outputs": [],
   "source": [
    "def resta( a = None, b = None ):\n",
    "    if a == None or b == None:\n",
    "        print(\"Error: Falta parámetros a la funcion\")\n",
    "        return\n",
    "    return a - b"
   ]
  },
  {
   "cell_type": "code",
   "execution_count": 9,
   "metadata": {},
   "outputs": [
    {
     "name": "stdout",
     "output_type": "stream",
     "text": [
      "Error: Falta parámetros a la funcion\n"
     ]
    }
   ],
   "source": [
    "# Resultado\n",
    "resta()"
   ]
  },
  {
   "attachments": {},
   "cell_type": "markdown",
   "metadata": {},
   "source": [
    "## Funcion 5"
   ]
  },
  {
   "cell_type": "code",
   "execution_count": 10,
   "metadata": {},
   "outputs": [],
   "source": [
    "def calculo(precio, descuento):\n",
    "    return precio - (precio * descuento / 100)"
   ]
  },
  {
   "cell_type": "code",
   "execution_count": 11,
   "metadata": {},
   "outputs": [
    {
     "name": "stdout",
     "output_type": "stream",
     "text": [
      "9000.0\n"
     ]
    }
   ],
   "source": [
    "datos = [10000, 10]\n",
    "print( calculo(*datos) )"
   ]
  },
  {
   "attachments": {},
   "cell_type": "markdown",
   "metadata": {},
   "source": [
    "# Actividad 2\n",
    "Se pide escribir las instrucciones necesarias para crear un menu con las opciones de:\n",
    "- Calcular_Iva\n",
    "- Descuento\n",
    "- Calcular_Imc\n",
    "\n",
    "Las cuales deben ser desarrollas en funciones (métodos).\n",
    "\n",
    "Donde:\n",
    "- calcular_iva: Es el precio del producto, multiplicado por el 19% (0.19)\n",
    "- descuento: Es el precio del producto menos el descuento por aplicar. Mostrar el valor final del producto.\n",
    "- Calcular_imc: Indice de masa corporal. Su fórmula es: ` peso / ( estatura ^ 2 )`\n",
    "\n",
    "Además se debe mostrar el estado de la persona de acuerdo a la siguiente tabla:\n",
    "\n",
    "| Estado | Peso |\n",
    "| ------ | ---- |\n",
    "| < 18.5 | Bajo peso|\n",
    "| 18.5 - 24.9 | Adecuado |\n",
    "| 25.0 - 29.9 | Sobrepeso |\n",
    "| 30.0 - 34.9 | Obesidad grado 1 |\n",
    "| 35.0 - 39.9 | Obesidad grado 2 |\n",
    "| > 40 | Obesidad grado 3 |"
   ]
  },
  {
   "cell_type": "code",
   "execution_count": 12,
   "metadata": {},
   "outputs": [],
   "source": [
    "def calcular_iva(precio: float = None):\n",
    "    if precio == None:\n",
    "        print(\"Error: No se especifico precio\")\n",
    "        return\n",
    "\n",
    "    iva: float = ( precio * 0.19 )\n",
    "    print(f\"Precio neto:  {precio}\")\n",
    "    print(f\"IVA:          {iva}\")\n",
    "    print(f\"Precio total: {precio * 1.19}\")"
   ]
  },
  {
   "cell_type": "code",
   "execution_count": 13,
   "metadata": {},
   "outputs": [],
   "source": [
    "def descuento(precio: float = None, descuento: float = 0.1):\n",
    "    if precio == None:\n",
    "        print(\"Error: No se especifico precio\")\n",
    "        return\n",
    "\n",
    "    print(f\"Precio neto:  {precio}\")\n",
    "    print(f\"Descuento:    {precio * descuento}\")\n",
    "    print(f\"Precio final: {precio - (precio * descuento)}\")"
   ]
  },
  {
   "cell_type": "code",
   "execution_count": 1,
   "metadata": {},
   "outputs": [],
   "source": [
    "def calcular_imc(peso: float = None, estatura: float = None):\n",
    "    if not peso:\n",
    "        print(\"Error: No se especifico peso\")\n",
    "        return\n",
    "    \n",
    "    if not estatura:\n",
    "        print(\"Error: No se especifico estatura\")\n",
    "        return\n",
    "\n",
    "    imc = peso / ( estatura ** 2 )\n",
    "    \n",
    "    if imc > 40:\n",
    "        return \"Obesidad grado 3\"\n",
    "    elif imc >= 35:\n",
    "        return \"Obesidad grado 2\"\n",
    "    elif imc >= 30:\n",
    "        return \"Obesidad grado 1\"\n",
    "    elif imc >= 25:\n",
    "        return \"Sobrepeso\"\n",
    "    elif imc >= 25:\n",
    "        return \"Adecuado\"\n",
    "    else:\n",
    "        return \"Bajo Peso\""
   ]
  },
  {
   "cell_type": "code",
   "execution_count": 27,
   "metadata": {},
   "outputs": [
    {
     "name": "stdout",
     "output_type": "stream",
     "text": [
      "Sobrepeso\n"
     ]
    }
   ],
   "source": [
    "# calcular_iva(1990)\n",
    "\n",
    "# descuento(1000, .67)\n",
    "\n",
    "imc = calcular_imc(76, 1.74)\n",
    "print(imc)"
   ]
  }
 ],
 "metadata": {
  "kernelspec": {
   "display_name": "Python 3",
   "language": "python",
   "name": "python3"
  },
  "language_info": {
   "codemirror_mode": {
    "name": "ipython",
    "version": 3
   },
   "file_extension": ".py",
   "mimetype": "text/x-python",
   "name": "python",
   "nbconvert_exporter": "python",
   "pygments_lexer": "ipython3",
   "version": "3.11.1"
  },
  "orig_nbformat": 4,
  "vscode": {
   "interpreter": {
    "hash": "826f091ce4e2d2fed0f8acdbeffc6e2b2cccfd5575f600b2ff9c1ba77970aafa"
   }
  }
 },
 "nbformat": 4,
 "nbformat_minor": 2
}
